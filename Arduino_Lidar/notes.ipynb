{
 "cells": [
  {
   "cell_type": "markdown",
   "metadata": {},
   "source": [
    "## Wire Description and Command\n",
    "### 6 Pin\n",
    "- Red => LDS core Power (5.0v)\n",
    "- Brown => TX Serial Out\n",
    "- Orange => PWM Motor Speed (rotaion rate)\n",
    "- Black => GND\n",
    "- Green => RX Serial In\n",
    "- Blue => BOOTO Boot Mode For Update\n",
    "### 2 Pin\n",
    "- Red => DC Motor Power (5.0v)\n",
    "- Black => DC Motor GND"
   ]
  },
  {
   "cell_type": "markdown",
   "metadata": {},
   "source": [
    "![performance](./imgs/performance.jpg)\n",
    "![performance2](./imgs/performance2.jpg)\n",
    "![mech](./imgs/mech_layout.jpg)\n",
    "![optic](./imgs/optic_path.jpg)\n",
    "![data](./imgs/data_info.jpg)\n",
    "![pins](./imgs/pin_layout.jpg)"
   ]
  },
  {
   "cell_type": "markdown",
   "metadata": {},
   "source": []
  }
 ],
 "metadata": {
  "language_info": {
   "name": "python"
  }
 },
 "nbformat": 4,
 "nbformat_minor": 2
}
