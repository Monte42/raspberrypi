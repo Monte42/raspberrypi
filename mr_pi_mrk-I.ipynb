{
 "cells": [
  {
   "cell_type": "markdown",
   "metadata": {},
   "source": [
    "# Mr Pi"
   ]
  },
  {
   "cell_type": "markdown",
   "metadata": {},
   "source": [
    "## Notes\n",
    "### Motor\n",
    "Motor Function Recommended\n",
    "Range 0-100 / reverse polarity to change direction \n",
    "#### Pins\n",
    "- Motor 1 = 13 | Output on high while motor 2 on low rolls forward\n",
    "- Motor 2 = 11 | Output on high while motor 1 on low rolls backwards\n",
    "- Enable = 15  | Controls engine speed, PMW, 1KHz, Map Function Recommended\n",
    "\n",
    "### Servo\n",
    "**SERVO OPERATION RANGE 0-180 DEGREES**\\\n",
    "Servo Function Recommended\n",
    "#### PINS\n",
    "- Servo 1 = 12 | Controls servo position, PMW, 50Hz, Map Function Recommended\n",
    "\n",
    "Set offset duty to 0.5\\\n",
    "set min/max duties - range (2.5-12.5) + offset\n",
    "\n",
    "### UltraSonic Range\n",
    "**OPERATION RANGE 3.5cm-220cm**\\\n",
    "Set Max Distance\n",
    "Set timeout\n",
    "Pulse Time Function & Sonar Functions Recommended\n",
    "#### Pins\n",
    "- Trigger = 16 | Emmits sonic pulse for .00001 secs\n",
    "- Echo = 18    | Listens for sonic pulse\n",
    "\n",
    "### Project goal\n",
    "Use sonar signal as value for conditional checks\\\n",
    "If over send signal via pin 36 to pcf\\\n",
    "As distance approces 8cm reduce PWM to pin 36 \n",
    "As distance approces 8cm rotate server either direction\n",
    "Pin 36 power low if <= 5cm / backup / servo 90 Degrees / forward 2 sec / reset \n"
   ]
  },
  {
   "cell_type": "code",
   "execution_count": null,
   "metadata": {},
   "outputs": [],
   "source": []
  }
 ],
 "metadata": {
  "language_info": {
   "name": "python"
  }
 },
 "nbformat": 4,
 "nbformat_minor": 2
}
